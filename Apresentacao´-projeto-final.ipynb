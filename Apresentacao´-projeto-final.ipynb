{
 "cells": [
  {
   "cell_type": "markdown",
   "metadata": {},
   "source": [
    "# Apresentção Canva "
   ]
  },
  {
   "cell_type": "markdown",
   "metadata": {},
   "source": [
    "<video width=\"420\" height=\"340\" controls>\n",
    "  <source src=\"imag-gif-video/apres-projeto-final-reprograma.mp4\" type=\"video/mp4\">\n",
    "</video>\n"
   ]
  }
 ],
 "metadata": {
  "language_info": {
   "name": "python"
  }
 },
 "nbformat": 4,
 "nbformat_minor": 2
}
