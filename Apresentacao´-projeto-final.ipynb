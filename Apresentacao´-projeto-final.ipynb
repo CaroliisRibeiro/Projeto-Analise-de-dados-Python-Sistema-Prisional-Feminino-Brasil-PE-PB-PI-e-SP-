{
 "cells": [
  {
   "cell_type": "markdown",
   "metadata": {},
   "source": [
    "# Apresentção Canva "
   ]
  },
  {
   "cell_type": "markdown",
   "metadata": {},
   "source": [
    "<video width=\"520\" height=\"440\" controls>\n",
    "  <source src=\"imag-gif-video/Projeto-final-Carol-Ribeiro.mp4\" type=\"video/mp4\">\n",
    "</video>\n"
   ]
  }
 ],
 "metadata": {
  "language_info": {
   "name": "python"
  }
 },
 "nbformat": 4,
 "nbformat_minor": 2
}
